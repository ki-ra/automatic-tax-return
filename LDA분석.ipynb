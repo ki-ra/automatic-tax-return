import pandas as pd

news_topic = pd.read_csv('C:/pydata/네이버뉴스 세금계산서 기사.csv', encoding='cp949')

news_topic

import re

def clean_html(x):
  x = re.sub("\&\w*\;","",x)
  x = re.sub("<.*?>","",x)
  return x

news_topic['제목'] = news_topic['제목'].apply(lambda x: clean_html(x))
news_topic['미리보기'] = news_topic['미리보기'].apply(lambda x: clean_html(x))

total_text=""
for i in range(0, len(news_topic)):
    text1 = str(news_topic['제목'].loc[i])
    text2 = str(news_topic['미리보기'].loc[i])
    total_text = total_text + text1 + text2

#pip install konlpy

from konlpy.tag import Okt
Okt = Okt()
pos = Okt.pos(total_text)

#ad =[t[0] for t in pos if t[1]=='Adjective']
#n =[t[0] for t in pos if t[1]=='Noun']

ad=[]
n=[]

for t in pos:
    if t[1]=="Adjective":
        ad.append(t[0])
    elif t[1]=="Noun":
        n.append(t[0])

 morph = ad + n

 k_stopword = open("C:/pydata/stopword_list.txt",'r',encoding='utf-8')
stopwords = list(k_stopword)

morph_stop = [txt for txt in morph if txt not in stopwords]

#!pip install gensim

from gensim.models.ldamodel import LdaModel
from gensim.models.coherencemodel import CoherenceModel

from gensim import corpora
import logging
from gensim.models.callbacks import PerplexityMetric
from gensim.models.callbacks import CoherenceMetric

if __name__ == '__main__':
  processed_data = [sent.strip().split(",") for sent in morph_stop]
  dictionary = corpora.Dictionary(processed_data)
  dictionary.filter_extremes(no_below=10, no_above=0.05)
  corpus = [dictionary.doc2bow(text) for text in processed_data]
  print('Number of unique tokens: %d' % len(dictionary))
  print('Number of documents: %d' % len(corpus))

  logging.basicConfig(format='%(asctime)s : %(levelname)s : %(message)s', level=logging.INFO)

  perplexity_logger = PerplexityMetric(corpus=corpus, logger='shell')
  coherence_logger = CoherenceMetric(corpus=corpus, coherence="u_mass", logger='shell')
  lda_model = LdaModel(corpus, id2word=dictionary, num_topics=10, passes=30, callbacks=[coherence_logger, perplexity_logger])
  topics = lda_model.print_topics(num_words=5)

  for topic in topics:
    print(topic)

coherence_model_lda = CoherenceModel(model=lda_model, texts=processed_data, dictionary=dictionary, coherence='c_v')
coherence_lda = coherence_model_lda.get_coherence()
print('\nCoherence Score (c_v): ', coherence_lda)

coherence_model_lda = CoherenceModel(model=lda_model, texts=processed_data, dictionary=dictionary, coherence="u_mass")
coherence_lda = coherence_model_lda.get_coherence()
print('\nCoherence Score (u_mass): ', coherence_lda)

pip install pyLDAvis

import pyLDAvis
import pyLDAvis.gensim as gensimvis
import os 
os.environ["PYTHONIOENCODING"] ="utf-8"
pyLDAvis.enable_notebook()

lda_vis = gensimvis.prepare(lda_model,corpus,dictionary)
pyLDAvis.display(lda_vis)
