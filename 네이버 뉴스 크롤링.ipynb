{
 "cells": [
  {
   "cell_type": "code",
   "execution_count": 2,
   "id": "f8b82b8d",
   "metadata": {},
   "outputs": [],
   "source": [
    "import requests\n",
    "from bs4 import BeautifulSoup\n",
    "import pandas as pd\n",
    "from tqdm.notebook import tqdm\n",
    "from random import *\n",
    "import random\n",
    "import re\n",
    "import time"
   ]
  },
  {
   "cell_type": "code",
   "execution_count": 4,
   "id": "c5397d68",
   "metadata": {},
   "outputs": [
    {
     "name": "stdout",
     "output_type": "stream",
     "text": [
      "검색어를 입력하세요수기 세금 신고\n",
      "시작 페이지 입력(MIN:1):1\n",
      "마지막 페이지 입력(MAX:399):299\n"
     ]
    },
    {
     "data": {
      "application/vnd.jupyter.widget-view+json": {
       "model_id": "2fe6da2ba19b4ebdb26869abc418b47d",
       "version_major": 2,
       "version_minor": 0
      },
      "text/plain": [
       "네이버 뉴스 크롤링:   0%|          | 0/299 [00:00<?, ?it/s]"
      ]
     },
     "metadata": {},
     "output_type": "display_data"
    },
    {
     "name": "stdout",
     "output_type": "stream",
     "text": [
      "353 개의 게시물을 크롤링 하였습니다.\n"
     ]
    }
   ],
   "source": [
    "search_keyword = input('검색어를 입력하세요')\n",
    "start_page = int(input('시작 페이지 입력(MIN:1):'))\n",
    "if start_page == 1:\n",
    "    start_page = 1\n",
    "else:\n",
    "    start_page = start_page * 10 +1\n",
    "end_page = int(input('마지막 페이지 입력(MAX:399):')) * 10 + 1 \n",
    "url = 'https://search.naver.com/search.naver?where=news&sm=tab_jum&query='+search_keyword\n",
    "page_url = '&sm=tab_pge&sort=0&photo=0&field=0&reporter_article=&pd=0&ds=&de=&docid=&nso=so:r,p:all,a:all&mynews=0&cluster_rank=37&start='\n",
    "end_url = '1&refresh_start=0'\n",
    "\n",
    "tit_lst = []\n",
    "doc_lst = []\n",
    "for page in tqdm(range(start_page,end_page,10),'네이버 뉴스 크롤링'):\n",
    "    t = uniform(0.3, 2.0)   # 0.3부터 2.0 사이의 임의의 float\n",
    "    time.sleep(t)\n",
    "    html = requests.get(url+page_url+str(page)+end_url)\n",
    "    soup = BeautifulSoup(html.text, 'html.parser')\n",
    "    \n",
    "    news_area = soup.find_all('div',class_='news_area')\n",
    "    for post in news_area:\n",
    "        tit = post.find('a',class_='news_tit')['title']\n",
    "        tit_lst.append(re.sub('[^a-zA-Zㄱ-ㅣ가-힣0-9?!# ]',\"\",tit))\n",
    "        \n",
    "        doc = post.find('a',class_='api_txt_lines').text\n",
    "        doc_lst.append(re.sub('[^a-zA-Zㄱ-ㅣ가-힣0-9?!# ]',\"\",doc))\n",
    "df = pd.DataFrame({\"제목\":tit_lst,\"미리보기\":doc_lst})\n",
    "df.to_csv(\"c:/pydata/네이버뉴스\"+search_keyword+\"저장.csv\",encoding=\"cp949\")\n",
    "print(len(tit_lst),'개의 게시물을 크롤링 하였습니다.')"
   ]
  },
  {
   "cell_type": "code",
   "execution_count": 37,
   "id": "aff3e668",
   "metadata": {},
   "outputs": [
    {
     "name": "stdout",
     "output_type": "stream",
     "text": [
      "Package                       Version\n",
      "----------------------------- ---------\n",
      "alabaster                     0.7.12\n",
      "appdirs                       1.4.4\n",
      "argh                          0.26.2\n",
      "argon2-cffi                   20.1.0\n",
      "astroid                       2.6.6\n",
      "async-generator               1.10\n",
      "atomicwrites                  1.4.0\n",
      "attrs                         21.2.0\n",
      "autopep8                      1.5.6\n",
      "Babel                         2.9.1\n",
      "backcall                      0.2.0\n",
      "bcrypt                        3.2.0\n",
      "beautifulsoup4                4.6.0\n",
      "black                         19.10b0\n",
      "bleach                        4.0.0\n",
      "brotlipy                      0.7.0\n",
      "bs4                           0.0.1\n",
      "certifi                       2021.5.30\n",
      "cffi                          1.14.6\n",
      "chardet                       4.0.0\n",
      "charset-normalizer            2.0.6\n",
      "click                         8.0.1\n",
      "cloudpickle                   2.0.0\n",
      "colorama                      0.4.4\n",
      "cryptography                  3.4.8\n",
      "customized-konlpy             0.0.64\n",
      "cycler                        0.10.0\n",
      "debugpy                       1.4.1\n",
      "decorator                     5.1.0\n",
      "defusedxml                    0.7.1\n",
      "diff-match-patch              20200713\n",
      "docutils                      0.17.1\n",
      "entrypoints                   0.3\n",
      "et-xmlfile                    1.1.0\n",
      "flake8                        3.9.0\n",
      "funcy                         1.16\n",
      "future                        0.18.2\n",
      "idna                          3.2\n",
      "imagesize                     1.2.0\n",
      "importlib-metadata            4.8.1\n",
      "iniconfig                     1.1.1\n",
      "intervaltree                  3.1.0\n",
      "ipykernel                     6.2.0\n",
      "ipython                       7.27.0\n",
      "ipython-genutils              0.2.0\n",
      "ipywidgets                    7.6.5\n",
      "isort                         5.9.3\n",
      "jedi                          0.17.2\n",
      "Jinja2                        3.0.1\n",
      "joblib                        1.1.0\n",
      "JPype1                        1.3.0\n",
      "jsonschema                    3.2.0\n",
      "jupyter-client                7.0.1\n",
      "jupyter-core                  4.7.1\n",
      "jupyterlab-pygments           0.1.2\n",
      "jupyterlab-widgets            1.0.2\n",
      "keyring                       23.1.0\n",
      "kiwisolver                    1.3.2\n",
      "konlpy                        0.5.2\n",
      "lazy-object-proxy             1.6.0\n",
      "lxml                          4.6.3\n",
      "MarkupSafe                    2.0.1\n",
      "matplotlib                    3.4.3\n",
      "matplotlib-inline             0.1.2\n",
      "mccabe                        0.6.1\n",
      "mistune                       0.8.4\n",
      "mypy-extensions               0.4.3\n",
      "nbclient                      0.5.3\n",
      "nbconvert                     6.1.0\n",
      "nbformat                      5.1.3\n",
      "nest-asyncio                  1.5.1\n",
      "nltk                          3.6.5\n",
      "notebook                      6.4.3\n",
      "numexpr                       2.7.3\n",
      "numpy                         1.21.2\n",
      "numpydoc                      1.1.0\n",
      "oauthlib                      3.1.1\n",
      "openpyxl                      3.0.9\n",
      "packaging                     21.0\n",
      "pandas                        1.3.3\n",
      "pandocfilters                 1.4.3\n",
      "paramiko                      2.7.2\n",
      "parso                         0.7.0\n",
      "pathspec                      0.7.0\n",
      "patsy                         0.5.2\n",
      "pexpect                       4.8.0\n",
      "pickleshare                   0.7.5\n",
      "Pillow                        8.4.0\n",
      "pip                           21.0.1\n",
      "pluggy                        1.0.0\n",
      "prometheus-client             0.11.0\n",
      "prompt-toolkit                3.0.17\n",
      "psutil                        5.8.0\n",
      "ptyprocess                    0.7.0\n",
      "py                            1.10.0\n",
      "pycodestyle                   2.6.0\n",
      "pycparser                     2.20\n",
      "pydocstyle                    6.1.1\n",
      "pyflakes                      2.2.0\n",
      "Pygments                      2.10.0\n",
      "pyLDAvis                      2.1.2\n",
      "pylint                        2.9.6\n",
      "pyls-black                    0.4.6\n",
      "pyls-spyder                   0.3.2\n",
      "PyNaCl                        1.4.0\n",
      "pyOpenSSL                     20.0.1\n",
      "pyparsing                     2.4.7\n",
      "pyrsistent                    0.17.3\n",
      "PySocks                       1.7.1\n",
      "pytest                        6.2.5\n",
      "python-dateutil               2.8.2\n",
      "python-jsonrpc-server         0.4.0\n",
      "python-language-server        0.36.2\n",
      "pytz                          2021.3\n",
      "pywin32                       228\n",
      "pywin32-ctypes                0.2.0\n",
      "pywinpty                      0.5.7\n",
      "PyYAML                        5.4.1\n",
      "pyzmq                         22.2.1\n",
      "QDarkStyle                    2.8.1\n",
      "QtAwesome                     1.0.2\n",
      "qtconsole                     5.1.1\n",
      "QtPy                          1.10.0\n",
      "regex                         2021.8.3\n",
      "requests                      2.26.0\n",
      "requests-oauthlib             1.3.0\n",
      "rope                          0.19.0\n",
      "Rtree                         0.9.7\n",
      "scikit-learn                  1.0\n",
      "scipy                         1.7.1\n",
      "selenium                      3.141.0\n",
      "Send2Trash                    1.8.0\n",
      "setuptools                    58.0.4\n",
      "sip                           4.19.13\n",
      "six                           1.16.0\n",
      "snowballstemmer               2.1.0\n",
      "sortedcontainers              2.4.0\n",
      "soupsieve                     2.2.1\n",
      "Sphinx                        4.2.0\n",
      "sphinxcontrib-applehelp       1.0.2\n",
      "sphinxcontrib-devhelp         1.0.2\n",
      "sphinxcontrib-htmlhelp        2.0.0\n",
      "sphinxcontrib-jsmath          1.0.1\n",
      "sphinxcontrib-qthelp          1.0.3\n",
      "sphinxcontrib-serializinghtml 1.1.5\n",
      "spyder                        4.2.5\n",
      "spyder-kernels                1.10.2\n",
      "statsmodels                   0.13.0\n",
      "terminado                     0.9.4\n",
      "testpath                      0.5.0\n",
      "textblob                      0.15.3\n",
      "textdistance                  4.2.1\n",
      "threadpoolctl                 3.0.0\n",
      "three-merge                   0.1.1\n",
      "toml                          0.10.2\n",
      "tornado                       6.1\n",
      "tqdm                          4.62.3\n",
      "traitlets                     5.1.0\n",
      "tweepy                        3.10.0\n",
      "typed-ast                     1.4.3\n",
      "typing-extensions             3.10.0.2\n",
      "ujson                         4.0.2\n",
      "urllib3                       1.26.7\n",
      "watchdog                      1.0.2\n",
      "wcwidth                       0.2.5\n",
      "webencodings                  0.5.1\n",
      "wheel                         0.37.0\n",
      "widgetsnbextension            3.5.1\n",
      "win-inet-pton                 1.1.0\n",
      "wincertstore                  0.2\n",
      "wordcloud                     1.8.1\n",
      "wrapt                         1.12.1\n",
      "yapf                          0.31.0\n",
      "zipp                          3.5.0\n",
      "Note: you may need to restart the kernel to use updated packages.\n"
     ]
    }
   ],
   "source": [
    "pip list"
   ]
  },
  {
   "cell_type": "code",
   "execution_count": 1,
   "id": "fd07f404",
   "metadata": {
    "scrolled": true
   },
   "outputs": [
    {
     "name": "stdout",
     "output_type": "stream",
     "text": [
      "Requirement already satisfied: KoNLPy in c:\\users\\song kira\\.conda\\envs\\multi\\lib\\site-packages (0.5.2)\n",
      "Requirement already satisfied: JPype1>=0.7.0 in c:\\users\\song kira\\.conda\\envs\\multi\\lib\\site-packages (from KoNLPy) (1.3.0)\n",
      "Requirement already satisfied: tweepy>=3.7.0 in c:\\users\\song kira\\.conda\\envs\\multi\\lib\\site-packages (from KoNLPy) (3.10.0)\n",
      "Requirement already satisfied: beautifulsoup4==4.6.0 in c:\\users\\song kira\\.conda\\envs\\multi\\lib\\site-packages (from KoNLPy) (4.6.0)\n",
      "Requirement already satisfied: numpy>=1.6 in c:\\users\\song kira\\.conda\\envs\\multi\\lib\\site-packages (from KoNLPy) (1.21.2)\n",
      "Requirement already satisfied: colorama in c:\\users\\song kira\\.conda\\envs\\multi\\lib\\site-packages (from KoNLPy) (0.4.4)\n",
      "Requirement already satisfied: lxml>=4.1.0 in c:\\users\\song kira\\.conda\\envs\\multi\\lib\\site-packages (from KoNLPy) (4.6.3)\n",
      "Requirement already satisfied: six>=1.10.0 in c:\\users\\song kira\\.conda\\envs\\multi\\lib\\site-packages (from tweepy>=3.7.0->KoNLPy) (1.16.0)\n",
      "Requirement already satisfied: requests-oauthlib>=0.7.0 in c:\\users\\song kira\\.conda\\envs\\multi\\lib\\site-packages (from tweepy>=3.7.0->KoNLPy) (1.3.0)\n",
      "Requirement already satisfied: requests[socks]>=2.11.1 in c:\\users\\song kira\\.conda\\envs\\multi\\lib\\site-packages (from tweepy>=3.7.0->KoNLPy) (2.26.0)\n",
      "Requirement already satisfied: oauthlib>=3.0.0 in c:\\users\\song kira\\.conda\\envs\\multi\\lib\\site-packages (from requests-oauthlib>=0.7.0->tweepy>=3.7.0->KoNLPy) (3.1.1)\n",
      "Requirement already satisfied: urllib3<1.27,>=1.21.1 in c:\\users\\song kira\\.conda\\envs\\multi\\lib\\site-packages (from requests[socks]>=2.11.1->tweepy>=3.7.0->KoNLPy) (1.26.7)\n",
      "Requirement already satisfied: idna<4,>=2.5 in c:\\users\\song kira\\.conda\\envs\\multi\\lib\\site-packages (from requests[socks]>=2.11.1->tweepy>=3.7.0->KoNLPy) (3.2)\n",
      "Requirement already satisfied: charset-normalizer~=2.0.0 in c:\\users\\song kira\\.conda\\envs\\multi\\lib\\site-packages (from requests[socks]>=2.11.1->tweepy>=3.7.0->KoNLPy) (2.0.6)\n",
      "Requirement already satisfied: certifi>=2017.4.17 in c:\\users\\song kira\\.conda\\envs\\multi\\lib\\site-packages (from requests[socks]>=2.11.1->tweepy>=3.7.0->KoNLPy) (2021.5.30)\n",
      "Requirement already satisfied: PySocks!=1.5.7,>=1.5.6 in c:\\users\\song kira\\.conda\\envs\\multi\\lib\\site-packages (from requests[socks]>=2.11.1->tweepy>=3.7.0->KoNLPy) (1.7.1)\n"
     ]
    }
   ],
   "source": [
    "!pip install KoNLPy"
   ]
  },
  {
   "cell_type": "code",
   "execution_count": 2,
   "id": "4f1d2914",
   "metadata": {},
   "outputs": [],
   "source": [
    "from konlpy.tag import Okt\n",
    "from nltk import Text\n",
    "from wordcloud import WordCloud"
   ]
  },
  {
   "cell_type": "code",
   "execution_count": 6,
   "id": "fe471fc5",
   "metadata": {},
   "outputs": [],
   "source": [
    "import pandas as pd\n",
    "import io"
   ]
  },
  {
   "cell_type": "code",
   "execution_count": 12,
   "id": "f83f936b",
   "metadata": {},
   "outputs": [
    {
     "name": "stdout",
     "output_type": "stream",
     "text": [
      "Requirement already satisfied: google-api-python-client in c:\\users\\song kira\\.conda\\envs\\multi\\lib\\site-packages (2.27.0)\n",
      "Requirement already satisfied: httplib2<1dev,>=0.15.0 in c:\\users\\song kira\\.conda\\envs\\multi\\lib\\site-packages (from google-api-python-client) (0.20.1)\n",
      "Requirement already satisfied: google-auth-httplib2>=0.1.0 in c:\\users\\song kira\\.conda\\envs\\multi\\lib\\site-packages (from google-api-python-client) (0.1.0)\n",
      "Requirement already satisfied: uritemplate<5,>=3.0.0 in c:\\users\\song kira\\.conda\\envs\\multi\\lib\\site-packages (from google-api-python-client) (4.1.1)\n",
      "Requirement already satisfied: google-api-core<3.0.0dev,>=1.21.0 in c:\\users\\song kira\\.conda\\envs\\multi\\lib\\site-packages (from google-api-python-client) (2.1.1)\n",
      "Requirement already satisfied: google-auth<3.0.0dev,>=1.16.0 in c:\\users\\song kira\\.conda\\envs\\multi\\lib\\site-packages (from google-api-python-client) (2.3.1)\n",
      "Requirement already satisfied: requests<3.0.0dev,>=2.18.0 in c:\\users\\song kira\\.conda\\envs\\multi\\lib\\site-packages (from google-api-core<3.0.0dev,>=1.21.0->google-api-python-client) (2.26.0)\n",
      "Requirement already satisfied: protobuf>=3.12.0 in c:\\users\\song kira\\.conda\\envs\\multi\\lib\\site-packages (from google-api-core<3.0.0dev,>=1.21.0->google-api-python-client) (3.19.0)\n",
      "Requirement already satisfied: googleapis-common-protos<2.0dev,>=1.6.0 in c:\\users\\song kira\\.conda\\envs\\multi\\lib\\site-packages (from google-api-core<3.0.0dev,>=1.21.0->google-api-python-client) (1.53.0)\n",
      "Requirement already satisfied: setuptools>=40.3.0 in c:\\users\\song kira\\.conda\\envs\\multi\\lib\\site-packages (from google-api-core<3.0.0dev,>=1.21.0->google-api-python-client) (58.0.4)\n",
      "Requirement already satisfied: cachetools<5.0,>=2.0.0 in c:\\users\\song kira\\.conda\\envs\\multi\\lib\\site-packages (from google-auth<3.0.0dev,>=1.16.0->google-api-python-client) (4.2.4)\n",
      "Requirement already satisfied: rsa<5,>=3.1.4 in c:\\users\\song kira\\.conda\\envs\\multi\\lib\\site-packages (from google-auth<3.0.0dev,>=1.16.0->google-api-python-client) (4.7.2)\n",
      "Requirement already satisfied: six>=1.9.0 in c:\\users\\song kira\\.conda\\envs\\multi\\lib\\site-packages (from google-auth<3.0.0dev,>=1.16.0->google-api-python-client) (1.16.0)\n",
      "Requirement already satisfied: pyasn1-modules>=0.2.1 in c:\\users\\song kira\\.conda\\envs\\multi\\lib\\site-packages (from google-auth<3.0.0dev,>=1.16.0->google-api-python-client) (0.2.8)\n",
      "Requirement already satisfied: pyparsing<3,>=2.4.2 in c:\\users\\song kira\\.conda\\envs\\multi\\lib\\site-packages (from httplib2<1dev,>=0.15.0->google-api-python-client) (2.4.7)\n",
      "Requirement already satisfied: pyasn1<0.5.0,>=0.4.6 in c:\\users\\song kira\\.conda\\envs\\multi\\lib\\site-packages (from pyasn1-modules>=0.2.1->google-auth<3.0.0dev,>=1.16.0->google-api-python-client) (0.4.8)\n",
      "Requirement already satisfied: urllib3<1.27,>=1.21.1 in c:\\users\\song kira\\.conda\\envs\\multi\\lib\\site-packages (from requests<3.0.0dev,>=2.18.0->google-api-core<3.0.0dev,>=1.21.0->google-api-python-client) (1.26.7)\n",
      "Requirement already satisfied: charset-normalizer~=2.0.0 in c:\\users\\song kira\\.conda\\envs\\multi\\lib\\site-packages (from requests<3.0.0dev,>=2.18.0->google-api-core<3.0.0dev,>=1.21.0->google-api-python-client) (2.0.6)\n",
      "Requirement already satisfied: certifi>=2017.4.17 in c:\\users\\song kira\\.conda\\envs\\multi\\lib\\site-packages (from requests<3.0.0dev,>=2.18.0->google-api-core<3.0.0dev,>=1.21.0->google-api-python-client) (2021.5.30)\n",
      "Requirement already satisfied: idna<4,>=2.5 in c:\\users\\song kira\\.conda\\envs\\multi\\lib\\site-packages (from requests<3.0.0dev,>=2.18.0->google-api-core<3.0.0dev,>=1.21.0->google-api-python-client) (3.2)\n"
     ]
    }
   ],
   "source": [
    "!pip install --upgrade google-api-python-client"
   ]
  },
  {
   "cell_type": "code",
   "execution_count": 14,
   "id": "64f1e8bd",
   "metadata": {},
   "outputs": [
    {
     "ename": "ImportError",
     "evalue": "cannot import name 'files' from 'google' (unknown location)",
     "output_type": "error",
     "traceback": [
      "\u001b[1;31m---------------------------------------------------------------------------\u001b[0m",
      "\u001b[1;31mImportError\u001b[0m                               Traceback (most recent call last)",
      "\u001b[1;32mC:\\Users\\SONGKI~1\\AppData\\Local\\Temp/ipykernel_9424/3220400889.py\u001b[0m in \u001b[0;36m<module>\u001b[1;34m\u001b[0m\n\u001b[1;32m----> 1\u001b[1;33m \u001b[1;32mfrom\u001b[0m \u001b[0mgoogle\u001b[0m \u001b[1;32mimport\u001b[0m \u001b[0mfiles\u001b[0m\u001b[1;33m\u001b[0m\u001b[1;33m\u001b[0m\u001b[0m\n\u001b[0m\u001b[0;32m      2\u001b[0m \u001b[0muploaded\u001b[0m \u001b[1;33m=\u001b[0m \u001b[0mfiles\u001b[0m\u001b[1;33m.\u001b[0m\u001b[0mupload\u001b[0m\u001b[1;33m(\u001b[0m\u001b[1;33m)\u001b[0m\u001b[1;33m\u001b[0m\u001b[1;33m\u001b[0m\u001b[0m\n",
      "\u001b[1;31mImportError\u001b[0m: cannot import name 'files' from 'google' (unknown location)"
     ]
    }
   ],
   "source": [
    "from google import files\n",
    "uploaded = files.upload()"
   ]
  },
  {
   "cell_type": "code",
   "execution_count": 16,
   "id": "93b76eb3",
   "metadata": {},
   "outputs": [
    {
     "ename": "AttributeError",
     "evalue": "'str' object has no attribute 'decode'",
     "output_type": "error",
     "traceback": [
      "\u001b[1;31m---------------------------------------------------------------------------\u001b[0m",
      "\u001b[1;31mAttributeError\u001b[0m                            Traceback (most recent call last)",
      "\u001b[1;32mC:\\Users\\SONGKI~1\\AppData\\Local\\Temp/ipykernel_9424/4208513711.py\u001b[0m in \u001b[0;36m<module>\u001b[1;34m\u001b[0m\n\u001b[1;32m----> 1\u001b[1;33m \u001b[0mdf\u001b[0m\u001b[1;33m=\u001b[0m \u001b[0mpd\u001b[0m\u001b[1;33m.\u001b[0m\u001b[0mread_csv\u001b[0m\u001b[1;33m(\u001b[0m\u001b[1;34m'네이버뉴스 세금계산서 기사.csv'\u001b[0m\u001b[1;33m.\u001b[0m\u001b[0mdecode\u001b[0m\u001b[1;33m(\u001b[0m\u001b[1;34m'cp949'\u001b[0m\u001b[1;33m)\u001b[0m\u001b[1;33m)\u001b[0m\u001b[1;33m\u001b[0m\u001b[1;33m\u001b[0m\u001b[0m\n\u001b[0m",
      "\u001b[1;31mAttributeError\u001b[0m: 'str' object has no attribute 'decode'"
     ]
    }
   ],
   "source": [
    "df= pd.read_csv('네이버뉴스 세금계산서 기사.csv'.decode('cp949'))"
   ]
  },
  {
   "cell_type": "code",
   "execution_count": 17,
   "id": "643ebb67",
   "metadata": {},
   "outputs": [
    {
     "ename": "TypeError",
     "evalue": "descriptor 'encode' of 'str' object needs an argument",
     "output_type": "error",
     "traceback": [
      "\u001b[1;31m---------------------------------------------------------------------------\u001b[0m",
      "\u001b[1;31mTypeError\u001b[0m                                 Traceback (most recent call last)",
      "\u001b[1;32mC:\\Users\\SONGKI~1\\AppData\\Local\\Temp/ipykernel_9424/3547096615.py\u001b[0m in \u001b[0;36m<module>\u001b[1;34m\u001b[0m\n\u001b[1;32m----> 1\u001b[1;33m \u001b[0mstr\u001b[0m\u001b[1;33m.\u001b[0m\u001b[0mencode\u001b[0m\u001b[1;33m(\u001b[0m\u001b[1;33m)\u001b[0m\u001b[1;33m.\u001b[0m\u001b[0mdecode\u001b[0m\u001b[1;33m(\u001b[0m\u001b[1;33m)\u001b[0m\u001b[1;33m\u001b[0m\u001b[1;33m\u001b[0m\u001b[0m\n\u001b[0m",
      "\u001b[1;31mTypeError\u001b[0m: descriptor 'encode' of 'str' object needs an argument"
     ]
    }
   ],
   "source": [
    "str.encode().decode()"
   ]
  },
  {
   "cell_type": "code",
   "execution_count": null,
   "id": "03b136c8",
   "metadata": {},
   "outputs": [],
   "source": []
  }
 ],
 "metadata": {
  "kernelspec": {
   "display_name": "Python 3 (ipykernel)",
   "language": "python",
   "name": "python3"
  },
  "language_info": {
   "codemirror_mode": {
    "name": "ipython",
    "version": 3
   },
   "file_extension": ".py",
   "mimetype": "text/x-python",
   "name": "python",
   "nbconvert_exporter": "python",
   "pygments_lexer": "ipython3",
   "version": "3.8.11"
  }
 },
 "nbformat": 4,
 "nbformat_minor": 5
}
